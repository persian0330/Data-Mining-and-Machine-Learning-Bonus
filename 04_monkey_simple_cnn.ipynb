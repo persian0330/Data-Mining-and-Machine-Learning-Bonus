{
 "cells": [
  {
   "cell_type": "markdown",
   "metadata": {},
   "source": [
    "### Import all required libraries\n",
    "\n"
   ]
  },
  {
   "cell_type": "code",
   "execution_count": 57,
   "metadata": {
    "pycharm": {
     "is_executing": false
    }
   },
   "outputs": [],
   "source": [
    "# todo\n",
    "import os,sys,time\n",
    "import sklearn\n",
    "import numpy as np\n",
    "import pandas as pd\n",
    "import tensorflow as tf\n",
    "from tensorflow.keras import datasets, layers, models, initializers,preprocessing\n",
    "import matplotlib.pyplot as plt\n",
    "from PIL import Image"
   ]
  },
  {
   "cell_type": "markdown",
   "metadata": {},
   "source": [
    "\n",
    "\n",
    "\n"
   ]
  },
  {
   "cell_type": "code",
   "execution_count": 58,
   "metadata": {
    "pycharm": {
     "is_executing": false
    }
   },
   "outputs": [
    {
     "name": "stdout",
     "output_type": "stream",
     "text": [
      "Found 1098 images belonging to 10 classes.\n",
      "Found 272 images belonging to 10 classes.\n"
     ]
    }
   ],
   "source": [
    "\n",
    "# todo\n",
    "### Load the image data or define the data loader\n",
    "\n",
    "train_path = '/Users/llm/Desktop/dmml_bonus_2021_scripts_2/archive/training/training'\n",
    "valid_path = '/Users/llm/Desktop/dmml_bonus_2021_scripts_2/archive/validation/validation'\n",
    "label_path = '/Users/llm/Desktop/dmml_bonus_2021_scripts_2/archive/monkey_labels.txt'\n",
    "\n",
    "# data augmentation\n",
    "'''\n",
    "reference : https://www.tensorflow.org/api_docs/python/tf/keras/preprocessing/image/ImageDataGenerator\n",
    "\n",
    "'''\n",
    "train_datagen = preprocessing.image.ImageDataGenerator(\n",
    "    rescale = 1./255,\n",
    "    rotation_range = 20,\n",
    "    width_shift_range = 0.2,\n",
    "    height_shift_range = 0.2,\n",
    "    shear_range = 0.2,\n",
    "    zoom_range = 0.2,\n",
    "    horizontal_flip = True, \n",
    "    fill_mode = \"nearest\"\n",
    ")\n",
    "train_generator = train_datagen.flow_from_directory(\n",
    "    train_path,\n",
    "    target_size = (128, 128),\n",
    "    batch_size = 64,\n",
    "    seed = 7,\n",
    "    shuffle = True,\n",
    "    class_mode = 'categorical'\n",
    ")\n",
    "valid_datagen = preprocessing.image.ImageDataGenerator(\n",
    "    rescale = 1./255\n",
    ")\n",
    "valid_generator = valid_datagen.flow_from_directory(\n",
    "    valid_path,\n",
    "    target_size = (128, 128),\n",
    "    batch_size = 64,\n",
    "    seed = 7,\n",
    "    shuffle = False,\n",
    "    class_mode = 'categorical')\n",
    "train_num = train_generator.samples\n",
    "valid_num = valid_generator.samples"
   ]
  },
  {
   "cell_type": "markdown",
   "metadata": {},
   "source": [
    "### Define your model architecture\n",
    "\n"
   ]
  },
  {
   "cell_type": "code",
   "execution_count": 59,
   "metadata": {
    "pycharm": {
     "is_executing": false
    }
   },
   "outputs": [
    {
     "name": "stdout",
     "output_type": "stream",
     "text": [
      "Model: \"sequential_8\"\n",
      "_________________________________________________________________\n",
      "Layer (type)                 Output Shape              Param #   \n",
      "=================================================================\n",
      "conv2d_32 (Conv2D)           (None, 126, 126, 32)      896       \n",
      "_________________________________________________________________\n",
      "max_pooling2d_32 (MaxPooling (None, 63, 63, 32)        0         \n",
      "_________________________________________________________________\n",
      "conv2d_33 (Conv2D)           (None, 61, 61, 64)        18496     \n",
      "_________________________________________________________________\n",
      "max_pooling2d_33 (MaxPooling (None, 30, 30, 64)        0         \n",
      "_________________________________________________________________\n",
      "conv2d_34 (Conv2D)           (None, 28, 28, 64)        36928     \n",
      "_________________________________________________________________\n",
      "max_pooling2d_34 (MaxPooling (None, 14, 14, 64)        0         \n",
      "_________________________________________________________________\n",
      "conv2d_35 (Conv2D)           (None, 12, 12, 64)        36928     \n",
      "_________________________________________________________________\n",
      "max_pooling2d_35 (MaxPooling (None, 6, 6, 64)          0         \n",
      "_________________________________________________________________\n",
      "flatten_8 (Flatten)          (None, 2304)              0         \n",
      "_________________________________________________________________\n",
      "dense_16 (Dense)             (None, 64)                147520    \n",
      "_________________________________________________________________\n",
      "dense_17 (Dense)             (None, 10)                650       \n",
      "=================================================================\n",
      "Total params: 241,418\n",
      "Trainable params: 241,418\n",
      "Non-trainable params: 0\n",
      "_________________________________________________________________\n"
     ]
    }
   ],
   "source": [
    "# todo\n",
    "'''\n",
    "Refernce : https://www.tensorflow.org/tutorials/images/cnn?hl=zh-eg\n",
    "\n",
    "'''\n",
    "model = models.Sequential()\n",
    "model.add(layers.Conv2D(32, kernel_size=3, activation='relu', input_shape=[128, 128, 3]))\n",
    "model.add(layers.MaxPooling2D(pool_size=2))\n",
    "model.add(layers.Conv2D(64, kernel_size=3, activation='relu'))\n",
    "model.add(layers.MaxPooling2D(pool_size=2))\n",
    "model.add(layers.Conv2D(64, kernel_size=3, activation='relu'))\n",
    "model.add(layers.MaxPooling2D(pool_size=2))\n",
    "model.add(layers.Conv2D(64, kernel_size=3, activation='relu'))\n",
    "model.add(layers.MaxPooling2D(pool_size=2))\n",
    "model.add(layers.Flatten())\n",
    "model.add(layers.Dense(64, activation='relu'))\n",
    "model.add(layers.Dense(10, activation='softmax'))\n",
    "model.summary()"
   ]
  },
  {
   "cell_type": "markdown",
   "metadata": {},
   "source": [
    "### Define your training setup\n",
    "\n",
    "\n"
   ]
  },
  {
   "cell_type": "code",
   "execution_count": 60,
   "metadata": {
    "pycharm": {
     "is_executing": false
    }
   },
   "outputs": [],
   "source": [
    "# todo\n",
    "model.compile(optimizer='adam',\n",
    "              loss=\"categorical_crossentropy\",\n",
    "              metrics=['accuracy'])"
   ]
  },
  {
   "cell_type": "markdown",
   "metadata": {},
   "source": [
    "### Initialize your model weights\n"
   ]
  },
  {
   "cell_type": "code",
   "execution_count": 61,
   "metadata": {
    "pycharm": {
     "is_executing": false
    }
   },
   "outputs": [
    {
     "data": {
      "text/plain": [
       "<tensorflow.python.keras.initializers.initializers_v2.TruncatedNormal at 0x7ffd3b05a490>"
      ]
     },
     "execution_count": 61,
     "metadata": {},
     "output_type": "execute_result"
    }
   ],
   "source": [
    "# todo\n",
    "'''\n",
    "Reference: https://keras.io/api/layers/initializers/\n",
    "\n",
    "'''\n",
    "\n",
    "initializers.TruncatedNormal(mean=0.0, stddev=0.05, seed=None)"
   ]
  },
  {
   "cell_type": "markdown",
   "metadata": {},
   "source": [
    "\n",
    "### Run the training process\n",
    "\n"
   ]
  },
  {
   "cell_type": "code",
   "execution_count": 62,
   "metadata": {
    "pycharm": {
     "is_executing": false
    }
   },
   "outputs": [
    {
     "name": "stdout",
     "output_type": "stream",
     "text": [
      "Epoch 1/20\n",
      "17/17 [==============================] - 28s 2s/step - loss: 2.3063 - accuracy: 0.1132 - val_loss: 2.2960 - val_accuracy: 0.1484\n",
      "Epoch 2/20\n",
      "17/17 [==============================] - 27s 2s/step - loss: 2.2861 - accuracy: 0.1441 - val_loss: 2.2467 - val_accuracy: 0.1953\n",
      "Epoch 3/20\n",
      "17/17 [==============================] - 27s 2s/step - loss: 2.1840 - accuracy: 0.1838 - val_loss: 2.1555 - val_accuracy: 0.1641\n",
      "Epoch 4/20\n",
      "17/17 [==============================] - 26s 2s/step - loss: 2.0750 - accuracy: 0.2157 - val_loss: 2.0036 - val_accuracy: 0.2578\n",
      "Epoch 5/20\n",
      "17/17 [==============================] - 26s 2s/step - loss: 1.9784 - accuracy: 0.2766 - val_loss: 1.9213 - val_accuracy: 0.3672\n",
      "Epoch 6/20\n",
      "17/17 [==============================] - 27s 2s/step - loss: 1.8872 - accuracy: 0.3085 - val_loss: 1.7197 - val_accuracy: 0.4180\n",
      "Epoch 7/20\n",
      "17/17 [==============================] - 27s 2s/step - loss: 1.8034 - accuracy: 0.3472 - val_loss: 1.6083 - val_accuracy: 0.4023\n",
      "Epoch 8/20\n",
      "17/17 [==============================] - 26s 2s/step - loss: 1.6587 - accuracy: 0.4101 - val_loss: 1.7118 - val_accuracy: 0.4453\n",
      "Epoch 9/20\n",
      "17/17 [==============================] - 26s 2s/step - loss: 1.5961 - accuracy: 0.4246 - val_loss: 1.4795 - val_accuracy: 0.5000\n",
      "Epoch 10/20\n",
      "17/17 [==============================] - 26s 2s/step - loss: 1.5600 - accuracy: 0.4284 - val_loss: 1.4346 - val_accuracy: 0.4805\n",
      "Epoch 11/20\n",
      "17/17 [==============================] - 27s 2s/step - loss: 1.5429 - accuracy: 0.4333 - val_loss: 1.4190 - val_accuracy: 0.5078\n",
      "Epoch 12/20\n",
      "17/17 [==============================] - 27s 2s/step - loss: 1.4779 - accuracy: 0.4574 - val_loss: 1.3205 - val_accuracy: 0.5547\n",
      "Epoch 13/20\n",
      "17/17 [==============================] - 27s 2s/step - loss: 1.3892 - accuracy: 0.4816 - val_loss: 1.3256 - val_accuracy: 0.5430\n",
      "Epoch 14/20\n",
      "17/17 [==============================] - 27s 2s/step - loss: 1.4146 - accuracy: 0.4720 - val_loss: 1.2789 - val_accuracy: 0.5195\n",
      "Epoch 15/20\n",
      "17/17 [==============================] - 27s 2s/step - loss: 1.3673 - accuracy: 0.5174 - val_loss: 1.2776 - val_accuracy: 0.5430\n",
      "Epoch 16/20\n",
      "17/17 [==============================] - 26s 2s/step - loss: 1.3799 - accuracy: 0.5048 - val_loss: 1.2440 - val_accuracy: 0.5625\n",
      "Epoch 17/20\n",
      "17/17 [==============================] - 27s 2s/step - loss: 1.3416 - accuracy: 0.5048 - val_loss: 1.1679 - val_accuracy: 0.5898\n",
      "Epoch 18/20\n",
      "17/17 [==============================] - 27s 2s/step - loss: 1.2925 - accuracy: 0.5397 - val_loss: 1.3718 - val_accuracy: 0.5508\n",
      "Epoch 19/20\n",
      "17/17 [==============================] - 27s 2s/step - loss: 1.2606 - accuracy: 0.5387 - val_loss: 1.1190 - val_accuracy: 0.6289\n",
      "Epoch 20/20\n",
      "17/17 [==============================] - 32s 2s/step - loss: 1.1974 - accuracy: 0.5735 - val_loss: 1.2387 - val_accuracy: 0.6172\n"
     ]
    }
   ],
   "source": [
    "# todo\n",
    "'''\n",
    "Reference: https://www.tensorflow.org/tutorials/images/cnn?hl=zh-eg\n",
    "\n",
    "'''\n",
    "\n",
    "history = model.fit_generator(train_generator, \n",
    "                              steps_per_epoch=train_num // 64, \n",
    "                              epochs=20, \n",
    "                              validation_data=valid_generator,\n",
    "                              validation_steps=valid_num // 64)"
   ]
  },
  {
   "cell_type": "markdown",
   "metadata": {},
   "source": [
    "### Plot the learning curves\n"
   ]
  },
  {
   "cell_type": "code",
   "execution_count": 64,
   "metadata": {
    "pycharm": {
     "is_executing": false
    }
   },
   "outputs": [
    {
     "data": {
      "image/png": "[encoded data removed]",
      "text/plain": [
       "<Figure size 432x288 with 1 Axes>"
      ]
     },
     "metadata": {
      "needs_background": "light"
     },
     "output_type": "display_data"
    },
    {
     "data": {
      "image/png": "[encoded data removed]",
      "text/plain": [
       "<Figure size 432x288 with 1 Axes>"
      ]
     },
     "metadata": {
      "needs_background": "light"
     },
     "output_type": "display_data"
    }
   ],
   "source": [
    "# todo\n",
    "'''\n",
    "Reference: https://www.tensorflow.org/tutorials/images/cnn?hl=zh-eg\n",
    "\n",
    "'''\n",
    "\n",
    "plt.plot(history.history['accuracy'], label='accuracy')\n",
    "plt.plot(history.history['val_accuracy'], label = 'val_accuracy')\n",
    "plt.xlabel('Epoch')\n",
    "plt.ylabel('Accuracy')\n",
    "plt.ylim([0.0, 1])\n",
    "plt.legend()\n",
    "plt.show()\n",
    "plt.plot(history.history['loss'], label='loss')\n",
    "plt.plot(history.history['val_loss'], label = 'val_loss')\n",
    "plt.xlabel('Epoch')\n",
    "plt.ylabel('Accuracy')\n",
    "plt.ylim([0.0, 1.2])\n",
    "plt.legend()\n",
    "plt.show()\n"
   ]
  },
  {
   "cell_type": "code",
   "execution_count": null,
   "metadata": {
    "pycharm": {
     "is_executing": false,
     "name": "#%%\n"
    }
   },
   "outputs": [],
   "source": []
  },
  {
   "cell_type": "code",
   "execution_count": null,
   "metadata": {
    "pycharm": {
     "is_executing": false,
     "name": "#%%\n"
    }
   },
   "outputs": [],
   "source": []
  },
  {
   "cell_type": "code",
   "execution_count": null,
   "metadata": {
    "pycharm": {
     "is_executing": false
    }
   },
   "outputs": [],
   "source": []
  },
  {
   "cell_type": "code",
   "execution_count": null,
   "metadata": {
    "pycharm": {
     "is_executing": false
    }
   },
   "outputs": [],
   "source": []
  },
  {
   "cell_type": "code",
   "execution_count": null,
   "metadata": {
    "pycharm": {
     "is_executing": false
    }
   },
   "outputs": [],
   "source": []
  }
 ],
 "metadata": {
  "kernelspec": {
   "display_name": "Python 3",
   "language": "python",
   "name": "python3"
  },
  "language_info": {
   "codemirror_mode": {
    "name": "ipython",
    "version": 3
   },
   "file_extension": ".py",
   "mimetype": "text/x-python",
   "name": "python",
   "nbconvert_exporter": "python",
   "pygments_lexer": "ipython3",
   "version": "3.7.7"
  },
  "pycharm": {
   "stem_cell": {
    "cell_type": "raw",
    "source": [],
    "metadata": {
     "collapsed": false
    }
   }
  }
 },
 "nbformat": 4,
 "nbformat_minor": 4
}